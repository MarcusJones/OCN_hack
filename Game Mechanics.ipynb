{
 "cells": [
  {
   "cell_type": "markdown",
   "metadata": {},
   "source": [
    "# SIMULATOR"
   ]
  },
  {
   "cell_type": "markdown",
   "metadata": {},
   "source": [
    "## Equation"
   ]
  },
  {
   "cell_type": "markdown",
   "metadata": {},
   "source": [
    "The block reward function is;\n",
    "\n",
    "$R_{ij} = log_{10} (S_{ij}) \\times log_{10}(D_j) \\times R_i$\n",
    "\n",
    "Where;\n",
    "\n",
    "$i$ is the actor\n",
    "\n",
    "$j$ is the dataset\n",
    "\n",
    "$S$ is the stake in **drops**\n",
    "\n",
    "$D$ is the number of deliveries of the dataset or service\n",
    "\n",
    "$R_i$ is the Sybil download factor; "
   ]
  },
  {
   "cell_type": "markdown",
   "metadata": {},
   "source": [
    "\n",
    "The Sybil download factor penalizes actors who download thier data repeatedly to increase their reward; \n",
    "\n",
    "$R_i = [min(B_{served}, B_{downloaded}, 1.0]$ if all data assets served,\n",
    "\n",
    "$R_i = 0 $ otherwise\n",
    "\n",
    "ERROR IN EQUATION?? \n"
   ]
  },
  {
   "cell_type": "markdown",
   "metadata": {},
   "source": []
  },
  {
   "cell_type": "code",
   "execution_count": 1,
   "metadata": {},
   "outputs": [
    {
     "name": "stderr",
     "output_type": "stream",
     "text": [
      "2018-06-08 10:48:04,328 - 10  - <module>  : Logging started\n",
      "2018-06-08 10:48:04,335 - 10  - pylab_setup: backend module://ipykernel.pylab.backend_inline version unknown\n"
     ]
    }
   ],
   "source": [
    "import logging\n",
    "#Delete Jupyter notebook root logger handler\n",
    "logger = logging.getLogger()\n",
    "logger.handlers = []\n",
    "\n",
    "# Set level\n",
    "logger.setLevel(logging.DEBUG)\n",
    "\n",
    "# Create formatter\n",
    "#FORMAT = \"%(asctime)s - %(levelno)-3s - %(module)-10s  %(funcName)-10s: %(message)s\"\n",
    "FORMAT = \"%(asctime)s - %(levelno)-3s - %(funcName)-10s: %(message)s\"\n",
    "formatter = logging.Formatter(FORMAT)\n",
    "\n",
    "# Create handler and assign\n",
    "handler = logging.StreamHandler(sys.stderr)\n",
    "handler.setFormatter(formatter)\n",
    "logger.handlers = [handler]\n",
    "logging.debug(\"Logging started\")"
   ]
  },
  {
   "cell_type": "code",
   "execution_count": 2,
   "metadata": {},
   "outputs": [],
   "source": [
    "import numpy as np\n",
    "from secrets import randbits\n",
    "from collections import defaultdict\n",
    "#hex(randbits(256))"
   ]
  },
  {
   "cell_type": "code",
   "execution_count": 3,
   "metadata": {},
   "outputs": [],
   "source": [
    "def reward():\n",
    "    return np.log10(stake) * np.log10(number_deliveries)"
   ]
  },
  {
   "cell_type": "markdown",
   "metadata": {},
   "source": [
    "### Actors (off-chain roles)"
   ]
  },
  {
   "cell_type": "code",
   "execution_count": 4,
   "metadata": {},
   "outputs": [],
   "source": [
    "class Actor():\n",
    "    def __init__(self,name, capital = 0):\n",
    "        self.name = name\n",
    "        self.wallet_address = hex(randbits(256))\n",
    "        self.capital = capital\n",
    "        print(self)\n",
    "    def __str__(self):\n",
    "        return \"{} with {} EUR\".format(self.name,self.capital)\n",
    "    "
   ]
  },
  {
   "cell_type": "code",
   "execution_count": 5,
   "metadata": {},
   "outputs": [
    {
     "name": "stdout",
     "output_type": "stream",
     "text": [
      "Bob with 10000 EUR\n",
      "Alice with 500 EUR\n",
      "Big Brother with 3000000 EUR\n",
      "Housing with -250000 EUR\n",
      "Luigi with 125000 EUR\n"
     ]
    }
   ],
   "source": [
    "a_bob = Actor(\"Bob\", 10000)\n",
    "a_alice = Actor(\"Alice\", 500)\n",
    "a_bigbrother = Actor(\"Big Brother\", 3000000)\n",
    "a_housing = Actor(\"Housing\", -250000)\n",
    "a_luigi = Actor(\"Luigi\", 125000)"
   ]
  },
  {
   "cell_type": "markdown",
   "metadata": {},
   "source": [
    "### Datasets (off-chain)"
   ]
  },
  {
   "cell_type": "code",
   "execution_count": 6,
   "metadata": {},
   "outputs": [],
   "source": [
    "class DataSet():\n",
    "    def __init__(self, name, description, size, url = \"/SOME URL\"):\n",
    "        self.name = name\n",
    "        self.description = description\n",
    "        self.size = size # bits\n",
    "        self.url = url\n",
    "        self.id = hex(randbits(256))\n",
    "        print(self)\n",
    "    def __str__(self):\n",
    "        return \"{} dataset: {}, {} MB\".format(self.name,self.description, self.size/1024/1024)\n",
    "    \n",
    "    #def create_dataset(self, data_name):\n",
    "    #    self.data_name = data_name"
   ]
  },
  {
   "cell_type": "code",
   "execution_count": 7,
   "metadata": {},
   "outputs": [
    {
     "name": "stdout",
     "output_type": "stream",
     "text": [
      "audio_ryerson dataset: actor emotional speech data, 123.0 MB\n",
      "finance_bitcoin dataset: time series bitcoin prices, 1500.0 MB\n",
      "pidgeon_race dataset: Pidgeon racing track and features, 0.109375 MB\n",
      "Drone_image dataset: Personal Customer Image Data, 5120.0 MB\n",
      "Drone_transactions dataset: Customer Transaction History, 10.0 MB\n"
     ]
    }
   ],
   "source": [
    "ds_audio_files = DataSet(\"audio_ryerson\", \"actor emotional speech data\", 123 * 1024 * 1024)\n",
    "ds_financial = DataSet(\"finance_bitcoin\", \"time series bitcoin prices\", 1500 * 1024 * 1024)\n",
    "ds_pidgeons = DataSet(\"pidgeon_race\",\"Pidgeon racing track and features\", 112 * 1024)\n",
    "ds_drone_image = DataSet(\"Drone_image\",\"Personal Customer Image Data\", 5 * 1024 * 1024 * 1024)\n",
    "ds_drone_transactions = DataSet(\"Drone_transactions\",\"Customer Transaction History\", 10 * 1024 * 1024)"
   ]
  },
  {
   "cell_type": "markdown",
   "metadata": {},
   "source": [
    "### The MARKET (on-chain)"
   ]
  },
  {
   "cell_type": "code",
   "execution_count": 8,
   "metadata": {},
   "outputs": [],
   "source": [
    "class Asset():\n",
    "    \"\"\"\n",
    "    Represent the Asset structure in Solidity\n",
    "    \"\"\"\n",
    "    def __init__(self,SECRET_name,SECRET_dataset_id,owner,ndrops,bit_size,url,token,active):\n",
    "        self.SECRET_name = SECRET_name\n",
    "        self.SECRET_dataset_id = SECRET_dataset_id\n",
    "        self.owner   = owner                       # address - owner of the Asset \n",
    "        self.ndrops  = ndrops                       # uint256 - total supply of Drops \n",
    "        self.bitSize  = bit_size                      # uint256 - size of asset in bit \n",
    "        self.url     = url                       # bytes32 - url of the asset \n",
    "        self.token   = token                       # bytes32 - token to get access to the asset \n",
    "        self.active  = active                        # bool  \n",
    "    \n",
    "    def __str__(self):\n",
    "        return \"[{}] owned by {}, {} drops, {} MB, at {}, token {}, active: {} \".format(\n",
    "            self.SECRET_name, \n",
    "                                                                self.owner[-4:], \n",
    "                                                                self.ndrops,\n",
    "                                                                self.bitSize/1024/1024,\n",
    "                                                                self.url,\n",
    "                                                                self.token,\n",
    "                                                                self.active,\n",
    "                                                               )"
   ]
  },
  {
   "cell_type": "code",
   "execution_count": 9,
   "metadata": {},
   "outputs": [],
   "source": [
    "class Provider():\n",
    "    \"\"\"\n",
    "    Represent the Provider structure in Solidity\n",
    "    \"\"\"\n",
    "    def __init__(self,SECRET_name, provider,numOCN,allowanceOCN,uploadBits,downloadBits):\n",
    "        self.SECRET_name = SECRET_name\n",
    "        self.provider   = provider                       # address\n",
    "        self.numOCN  = numOCN                       # uint256 - Ocean token balance\n",
    "        self.allowanceOCN  = allowanceOCN                      # available Ocean tokens for transfer excuding locked tokens for staking \n",
    "        self.uploadBits     = uploadBits                       # uint256 - total number of bits that served across all data assets with stakes\n",
    "        self.downloadBits   = downloadBits                       # uint256 - total number of bits that download across all data assets with stakes\n",
    "\n",
    "    def __str__(self):\n",
    "        return \"[{}] with {} MB uploaded, {} MB downloaded, {} OCB\".format(\n",
    "            self.SECRET_name,\n",
    "            self.uploadBits/1024/1024,\n",
    "            self.downloadBits/1024/1024,\n",
    "            self.numOCN,\n",
    "                                                               )"
   ]
  },
  {
   "cell_type": "code",
   "execution_count": 10,
   "metadata": {},
   "outputs": [],
   "source": [
    "class Market():\n",
    "    def __init__(self,start,stop):\n",
    "        self.tick = start\n",
    "        self.stop = stop\n",
    "        self.mProviders = dict()\n",
    "        self.mAssets = dict()\n",
    "\n",
    "    def __iter__(self):\n",
    "        return self        \n",
    "\n",
    "    def next(self): # Python 3: def __next__(self)\n",
    "        if self.tick > self.stop:\n",
    "            raise StopIteration\n",
    "        else:\n",
    "            self.tick += 1\n",
    "            return self.tick\n",
    "        \n",
    "    def __str__(self):\n",
    "        return \"Tick {}, {} assets, {} providers\".format(self.tick, \n",
    "                                           len(self.mAssets),\n",
    "                                           len(self.mProviders),\n",
    "                                          )\n",
    "    def register(self, sender, dataset):\n",
    "        \"\"\" \n",
    "        Convert a dataset to an Asset, register it in the market\n",
    "        Register the Provider, if not already present\n",
    "        \"\"\"\n",
    "        asset_id = hex(randbits(256))\n",
    "                       \n",
    "        if sender.wallet_address not in self.mProviders.keys():\n",
    "            self.mProviders[sender.wallet_address] = Provider(sender.name,sender.wallet_address, 0, 0, 0, 0)\n",
    "            logging.info(\"[{}] registered as a new provider\".format(sender.name))\n",
    "        \n",
    "        \n",
    "        self.mProviders[sender.wallet_address].uploadBits += dataset.size\n",
    "\n",
    "        this_asset = Asset(SECRET_name = dataset.name,\n",
    "                           SECRET_dataset_id = dataset.id,\n",
    "                            owner = sender.wallet_address,\n",
    "                           ndrops = 0,\n",
    "                           bit_size = dataset.size,\n",
    "                           url = dataset.url,\n",
    "                           token = None,\n",
    "                           active = False,\n",
    "                          )\n",
    "        \n",
    "        self.mAssets[asset_id] = this_asset\n",
    "        logging.info(\"[{}] registered {} MB {} dataset into market\".format(sender.name,dataset.size/1000/1000,dataset.name))\n",
    "\n",
    "    def publish(self):\n",
    "        pass\n",
    "    \n",
    "    def purchase(self):\n",
    "        pass\n",
    "    \n",
    "\n",
    "    #def "
   ]
  },
  {
   "cell_type": "code",
   "execution_count": 11,
   "metadata": {},
   "outputs": [
    {
     "name": "stdout",
     "output_type": "stream",
     "text": [
      "Tick 0, 0 assets, 0 providers\n"
     ]
    }
   ],
   "source": [
    "market = Market(0,1000)\n",
    "print(market)"
   ]
  },
  {
   "cell_type": "code",
   "execution_count": 12,
   "metadata": {},
   "outputs": [
    {
     "name": "stderr",
     "output_type": "stream",
     "text": [
      "2018-06-08 10:48:04,390 - 20  - register  : [Bob] registered as a new provider\n",
      "2018-06-08 10:48:04,391 - 20  - register  : [Bob] registered 1572.864 MB finance_bitcoin dataset into market\n",
      "2018-06-08 10:48:04,391 - 20  - register  : [Bob] registered 0.114688 MB pidgeon_race dataset into market\n",
      "2018-06-08 10:48:04,392 - 20  - register  : [Alice] registered as a new provider\n",
      "2018-06-08 10:48:04,392 - 20  - register  : [Alice] registered 128.974848 MB audio_ryerson dataset into market\n",
      "2018-06-08 10:48:04,392 - 20  - register  : [Luigi] registered as a new provider\n",
      "2018-06-08 10:48:04,393 - 20  - register  : [Luigi] registered 5368.70912 MB Drone_image dataset into market\n",
      "2018-06-08 10:48:04,393 - 20  - register  : [Luigi] registered 10.48576 MB Drone_transactions dataset into market\n"
     ]
    }
   ],
   "source": [
    "market.register(a_bob, ds_financial)\n",
    "market.register(a_bob, ds_pidgeons)\n",
    "market.register(a_alice, ds_audio_files)\n",
    "market.register(a_luigi, ds_drone_image)\n",
    "market.register(a_luigi, ds_drone_transactions)"
   ]
  },
  {
   "cell_type": "code",
   "execution_count": 13,
   "metadata": {},
   "outputs": [
    {
     "name": "stdout",
     "output_type": "stream",
     "text": [
      "Tick 1, 5 assets, 3 providers\n"
     ]
    }
   ],
   "source": [
    "market.next()\n",
    "print(market)"
   ]
  },
  {
   "cell_type": "markdown",
   "metadata": {},
   "source": [
    "## Market information and [Oracle information]"
   ]
  },
  {
   "cell_type": "code",
   "execution_count": 14,
   "metadata": {},
   "outputs": [
    {
     "name": "stdout",
     "output_type": "stream",
     "text": [
      "[Bob] with 1500.109375 MB uploaded, 0.0 MB downloaded, 0 OCB\n",
      "[Alice] with 123.0 MB uploaded, 0.0 MB downloaded, 0 OCB\n",
      "[Luigi] with 5130.0 MB uploaded, 0.0 MB downloaded, 0 OCB\n"
     ]
    }
   ],
   "source": [
    "for provider in market.mProviders:\n",
    "    print(market.mProviders[provider])"
   ]
  },
  {
   "cell_type": "code",
   "execution_count": 15,
   "metadata": {},
   "outputs": [
    {
     "name": "stdout",
     "output_type": "stream",
     "text": [
      "Bob's assets in the market:\n",
      "\t [finance_bitcoin] owned by f3dc, 0 drops, 1500.0 MB, at /SOME URL, token None, active: False \n",
      "\t [pidgeon_race] owned by f3dc, 0 drops, 0.109375 MB, at /SOME URL, token None, active: False \n",
      "Alice's assets in the market:\n",
      "\t [audio_ryerson] owned by dc0b, 0 drops, 123.0 MB, at /SOME URL, token None, active: False \n",
      "Luigi's assets in the market:\n",
      "\t [Drone_image] owned by 7226, 0 drops, 5120.0 MB, at /SOME URL, token None, active: False \n",
      "\t [Drone_transactions] owned by 7226, 0 drops, 10.0 MB, at /SOME URL, token None, active: False \n"
     ]
    }
   ],
   "source": [
    "asset_list = defaultdict(list)\n",
    "for asset in market.mAssets:\n",
    "    owner_id = market.mAssets[asset].owner\n",
    "    asset_list[market.mProviders[owner_id].SECRET_name].append(market.mAssets[asset])\n",
    "\n",
    "for provider in asset_list:\n",
    "    #print(market.mProviders[provider])    \n",
    "    print(\"{}'s assets in the market:\".format(provider))\n",
    "    for asset in asset_list[provider]:\n",
    "        print(\"\\t\",asset)"
   ]
  },
  {
   "cell_type": "code",
   "execution_count": null,
   "metadata": {},
   "outputs": [],
   "source": []
  },
  {
   "cell_type": "code",
   "execution_count": null,
   "metadata": {},
   "outputs": [],
   "source": []
  },
  {
   "cell_type": "code",
   "execution_count": null,
   "metadata": {},
   "outputs": [],
   "source": []
  }
 ],
 "metadata": {
  "kernelspec": {
   "display_name": "Python 3",
   "language": "python",
   "name": "python3"
  },
  "language_info": {
   "codemirror_mode": {
    "name": "ipython",
    "version": 3
   },
   "file_extension": ".py",
   "mimetype": "text/x-python",
   "name": "python",
   "nbconvert_exporter": "python",
   "pygments_lexer": "ipython3",
   "version": "3.6.5"
  }
 },
 "nbformat": 4,
 "nbformat_minor": 2
}
